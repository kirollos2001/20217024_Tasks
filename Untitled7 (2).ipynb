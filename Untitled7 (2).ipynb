{
 "cells": [
  {
   "cell_type": "code",
   "execution_count": null,
   "id": "72029a8c",
   "metadata": {},
   "outputs": [
    {
     "name": "stdout",
     "output_type": "stream",
     "text": [
      "\n",
      "To-Do List Menu:\n",
      "1. View To-Do List\n",
      "2. Add Task\n",
      "3. Remove Task\n",
      "4. Exit\n"
     ]
    }
   ],
   "source": [
    "# Simple To-Do List Application\n",
    "def display_menu():\n",
    "    print(\"\\nTo-Do List Menu:\")\n",
    "    print(\"1. View To-Do List\")\n",
    "    print(\"2. Add Task\")\n",
    "    print(\"3. Remove Task\")\n",
    "    print(\"4. Exit\")\n",
    "\n",
    "def view_tasks(tasks):\n",
    "    if not tasks:\n",
    "        print(\"\\nYour to-do list is empty!\")\n",
    "    else:\n",
    "        print(\"\\nYour To-Do List:\")\n",
    "        for idx, task in enumerate(tasks, 1):\n",
    "            print(f\"{idx}. {task}\")\n",
    "\n",
    "def add_task(tasks):\n",
    "    task = input(\"\\nEnter the task to add: \")\n",
    "    tasks.append(task)\n",
    "    print(f\"Task '{task}' added to your to-do list!\")\n",
    "\n",
    "def remove_task(tasks):\n",
    "    if not tasks:\n",
    "        print(\"\\nYour to-do list is empty! Nothing to remove.\")\n",
    "        return\n",
    "    view_tasks(tasks)\n",
    "    try:\n",
    "        task_num = int(input(\"\\nEnter the task number to remove: \"))\n",
    "        if 1 <= task_num <= len(tasks):\n",
    "            removed_task = tasks.pop(task_num - 1)\n",
    "            print(f\"Task '{removed_task}' removed from your to-do list!\")\n",
    "        else:\n",
    "            print(\"Invalid task number! Please try again.\")\n",
    "    except ValueError:\n",
    "        print(\"Please enter a valid number.\")\n",
    "\n",
    "def main():\n",
    "    tasks = []\n",
    "    while True:\n",
    "        display_menu()\n",
    "        choice = input(\"\\nEnter your choice: \")\n",
    "        if choice == '1':\n",
    "            view_tasks(tasks)\n",
    "        elif choice == '2':\n",
    "            add_task(tasks)\n",
    "        elif choice == '3':\n",
    "            remove_task(tasks)\n",
    "        elif choice == '4':\n",
    "            print(\"\\nGoodbye!\")\n",
    "            break\n",
    "        else:\n",
    "            print(\"\\nInvalid choice! Please try again.\")\n",
    "\n",
    "if __name__ == \"__main__\":\n",
    "    main()\n"
   ]
  },
  {
   "cell_type": "code",
   "execution_count": null,
   "id": "b3d7eaef",
   "metadata": {},
   "outputs": [],
   "source": []
  },
  {
   "cell_type": "code",
   "execution_count": null,
   "id": "7ba8d83f",
   "metadata": {},
   "outputs": [],
   "source": []
  }
 ],
 "metadata": {
  "kernelspec": {
   "display_name": "Python 3 (ipykernel)",
   "language": "python",
   "name": "python3"
  },
  "language_info": {
   "codemirror_mode": {
    "name": "ipython",
    "version": 3
   },
   "file_extension": ".py",
   "mimetype": "text/x-python",
   "name": "python",
   "nbconvert_exporter": "python",
   "pygments_lexer": "ipython3",
   "version": "3.9.7"
  }
 },
 "nbformat": 4,
 "nbformat_minor": 5
}
